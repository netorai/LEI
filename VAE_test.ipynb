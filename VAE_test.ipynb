{
  "nbformat": 4,
  "nbformat_minor": 0,
  "metadata": {
    "colab": {
      "name": "VAE_test.ipynb",
      "provenance": [],
      "collapsed_sections": [],
      "toc_visible": true,
      "authorship_tag": "ABX9TyNKC/WZQX/7q1HM8JF7XiLp",
      "include_colab_link": true
    },
    "kernelspec": {
      "name": "python3",
      "display_name": "Python 3"
    },
    "language_info": {
      "name": "python"
    }
  },
  "cells": [
    {
      "cell_type": "markdown",
      "metadata": {
        "id": "view-in-github",
        "colab_type": "text"
      },
      "source": [
        "<a href=\"https://colab.research.google.com/github/netorai/LEI/blob/main/VAE_test.ipynb\" target=\"_parent\"><img src=\"https://colab.research.google.com/assets/colab-badge.svg\" alt=\"Open In Colab\"/></a>"
      ]
    },
    {
      "cell_type": "markdown",
      "metadata": {
        "id": "2MNQNDUpzMzn"
      },
      "source": [
        "LOAD DATA"
      ]
    },
    {
      "cell_type": "code",
      "metadata": {
        "id": "4SbDvya6zA6R"
      },
      "source": [
        "def load_data(i):\n",
        "    if i == 1:\n",
        "        #mount Google Drive\n",
        "        from google.colab import drive\n",
        "        drive.mount('/content/gdrive', force_remount=True)\n",
        "        #create results dir\n",
        "        %cd /content/gdrive/My\\ Drive/Colab\\ Notebooks/PLX\\ Morphology\n",
        "    #%cd gdrive/My\\ Drive/Colab\\ Notebooks/PLX\\ Morphology/Datasets\n",
        "    #load images and labels\n",
        "    images = np.load('Datasets/' + IMG_ARRAY_NAME)\n",
        "    labels = np.load('Datasets/' + IMG_LABEL_NAME)\n",
        "    os.makedirs('Experiments/'+RUN_TIME, exist_ok=True)\n",
        "    return images, labels"
      ],
      "execution_count": null,
      "outputs": []
    },
    {
      "cell_type": "markdown",
      "metadata": {
        "id": "DjHmIbmEzT3x"
      },
      "source": [
        "NORMALIZE"
      ]
    },
    {
      "cell_type": "code",
      "metadata": {
        "id": "VrI9cBHfzVnf"
      },
      "source": [
        "def prepare_data(array_of_images):\n",
        "    array_of_images = array_of_images.astype('float32')/255.\n",
        "    return array_of_images"
      ],
      "execution_count": null,
      "outputs": []
    },
    {
      "cell_type": "markdown",
      "metadata": {
        "id": "74STBS_-zYu6"
      },
      "source": [
        "RANDOM IMAGE SHUFFLE"
      ]
    },
    {
      "cell_type": "code",
      "metadata": {
        "id": "7xb6b1KczaQs"
      },
      "source": [
        "def shuffle_data(X, y):\n",
        "    indices = np.arange(X.shape[0])\n",
        "    np.random.shuffle(indices)\n",
        "    X = X[indices]\n",
        "    y = y[indices]\n",
        "    return X, y"
      ],
      "execution_count": null,
      "outputs": []
    },
    {
      "cell_type": "markdown",
      "metadata": {
        "id": "UlSKWVRYzcqn"
      },
      "source": [
        "SPLIT INTO TRAIN AND TEST SETS"
      ]
    },
    {
      "cell_type": "code",
      "metadata": {
        "id": "fRT6P10czb68"
      },
      "source": [
        "def split_data(X, y, perc=20):\n",
        "    train_idx = np.arange(0, int(len(X)*(100-perc)/100))\n",
        "    test_idx = np.arange(int(len(X)*(100-perc)/100+1), len(X))\n",
        "    X_train = X[train_idx]\n",
        "    X_test = X[test_idx]\n",
        "    y_train = y[train_idx]\n",
        "    y_test = y[test_idx]\n",
        "    return X_train, y_train, X_test, y_test"
      ],
      "execution_count": 12,
      "outputs": []
    },
    {
      "cell_type": "code",
      "metadata": {
        "id": "UPxvon9f29W1"
      },
      "source": [
        "X_train, y_train, X_test, y_test = split_data(img_64, label_64)"
      ],
      "execution_count": 15,
      "outputs": []
    },
    {
      "cell_type": "code",
      "metadata": {
        "colab": {
          "base_uri": "https://localhost:8080/",
          "height": 163
        },
        "id": "y9PWEpci3Ipr",
        "outputId": "06091b28-cb68-4bf5-f5d5-569ecff3d500"
      },
      "source": [
        ""
      ],
      "execution_count": 17,
      "outputs": [
        {
          "output_type": "error",
          "ename": "AttributeError",
          "evalue": "ignored",
          "traceback": [
            "\u001b[0;31m---------------------------------------------------------------------------\u001b[0m",
            "\u001b[0;31mAttributeError\u001b[0m                            Traceback (most recent call last)",
            "\u001b[0;32m<ipython-input-17-9d771e2afdf3>\u001b[0m in \u001b[0;36m<module>\u001b[0;34m()\u001b[0m\n\u001b[0;32m----> 1\u001b[0;31m \u001b[0mX_train\u001b[0m\u001b[0;34m.\u001b[0m\u001b[0mdescribe\u001b[0m\u001b[0;34m(\u001b[0m\u001b[0;34m)\u001b[0m\u001b[0;34m\u001b[0m\u001b[0;34m\u001b[0m\u001b[0m\n\u001b[0m",
            "\u001b[0;31mAttributeError\u001b[0m: 'numpy.ndarray' object has no attribute 'describe'"
          ]
        }
      ]
    },
    {
      "cell_type": "markdown",
      "metadata": {
        "id": "AXB2vHqFzf5k"
      },
      "source": [
        "CHECK HOW BALANCE THE DATA IS"
      ]
    },
    {
      "cell_type": "code",
      "metadata": {
        "id": "jTQwW3h0zht6"
      },
      "source": [
        "def check_data_balance(y, y_ori_size, title=None):\n",
        "    (unique, counts) = np.unique(y, return_counts=True)\n",
        "    frequencies = np.asarray((unique, counts)).T\n",
        "    print(50*'*')\n",
        "    if title is not None:\n",
        "        print(title)\n",
        "    print(\"Total of\", round(len(y)/y_ori_size*100, 2), \"% of original data.\")\n",
        "    print(\"Classes:\", CLASSES)\n",
        "    print(\"Dataset Balance:\\n\", frequencies)\n",
        "    print(50*'*')"
      ],
      "execution_count": null,
      "outputs": []
    },
    {
      "cell_type": "markdown",
      "metadata": {
        "id": "pFMtXd-Mzj39"
      },
      "source": [
        "ANALYZE DATASETS"
      ]
    },
    {
      "cell_type": "code",
      "metadata": {
        "id": "5C8Is_vjzl_Q"
      },
      "source": [
        "def analyze_data(img_list, img_labels, title):\n",
        "    print(50*'*')\n",
        "    print(\"Images (X) shape:\", img_list.shape)\n",
        "    print(\"Images (y) shape:\", img_labels.shape)\n",
        "    visualize_data(img_list, img_labels, title)\n",
        "    print(50*'*')"
      ],
      "execution_count": null,
      "outputs": []
    },
    {
      "cell_type": "markdown",
      "metadata": {
        "id": "EkqYzKrkzoSL"
      },
      "source": [
        "MATPLOTLIB IT"
      ]
    },
    {
      "cell_type": "code",
      "metadata": {
        "id": "DKkPWxNQzn07"
      },
      "source": [
        "def visualize_data(img_list, img_labels, title):\n",
        "    #a set of 9 figures\n",
        "    fig = plt.figure(figsize=(8,8))\n",
        "    for i in range(9):\n",
        "        plt.subplot(3,3,i+1)\n",
        "        plt.xticks([])\n",
        "        plt.yticks([])\n",
        "        plt.grid(False)\n",
        "        plt.imshow(tf.squeeze(img_list[i]))\n",
        "        plt.xlabel(CLASSES[img_labels[i]])\n",
        "    fig.suptitle(title)\n",
        "    #plt.show()"
      ],
      "execution_count": 7,
      "outputs": []
    },
    {
      "cell_type": "code",
      "metadata": {
        "colab": {
          "base_uri": "https://localhost:8080/",
          "height": 427
        },
        "id": "fxzdb35W2Xqd",
        "outputId": "d5acbaa7-5ab0-4012-fde2-157482143a64"
      },
      "source": [
        "visualize_data(img_64, label_64, 'ok')"
      ],
      "execution_count": 10,
      "outputs": [
        {
          "output_type": "error",
          "ename": "NameError",
          "evalue": "ignored",
          "traceback": [
            "\u001b[0;31m---------------------------------------------------------------------------\u001b[0m",
            "\u001b[0;31mNameError\u001b[0m                                 Traceback (most recent call last)",
            "\u001b[0;32m<ipython-input-10-d52d3f5ec64e>\u001b[0m in \u001b[0;36m<module>\u001b[0;34m()\u001b[0m\n\u001b[0;32m----> 1\u001b[0;31m \u001b[0mvisualize_data\u001b[0m\u001b[0;34m(\u001b[0m\u001b[0mimg_64\u001b[0m\u001b[0;34m,\u001b[0m \u001b[0mlabel_64\u001b[0m\u001b[0;34m,\u001b[0m \u001b[0;34m'ok'\u001b[0m\u001b[0;34m)\u001b[0m\u001b[0;34m\u001b[0m\u001b[0;34m\u001b[0m\u001b[0m\n\u001b[0m",
            "\u001b[0;32m<ipython-input-7-2a1409b1f30d>\u001b[0m in \u001b[0;36mvisualize_data\u001b[0;34m(img_list, img_labels, title)\u001b[0m\n\u001b[1;32m      8\u001b[0m         \u001b[0mplt\u001b[0m\u001b[0;34m.\u001b[0m\u001b[0mgrid\u001b[0m\u001b[0;34m(\u001b[0m\u001b[0;32mFalse\u001b[0m\u001b[0;34m)\u001b[0m\u001b[0;34m\u001b[0m\u001b[0;34m\u001b[0m\u001b[0m\n\u001b[1;32m      9\u001b[0m         \u001b[0mplt\u001b[0m\u001b[0;34m.\u001b[0m\u001b[0mimshow\u001b[0m\u001b[0;34m(\u001b[0m\u001b[0mtf\u001b[0m\u001b[0;34m.\u001b[0m\u001b[0msqueeze\u001b[0m\u001b[0;34m(\u001b[0m\u001b[0mimg_list\u001b[0m\u001b[0;34m[\u001b[0m\u001b[0mi\u001b[0m\u001b[0;34m]\u001b[0m\u001b[0;34m)\u001b[0m\u001b[0;34m)\u001b[0m\u001b[0;34m\u001b[0m\u001b[0;34m\u001b[0m\u001b[0m\n\u001b[0;32m---> 10\u001b[0;31m         \u001b[0mplt\u001b[0m\u001b[0;34m.\u001b[0m\u001b[0mxlabel\u001b[0m\u001b[0;34m(\u001b[0m\u001b[0mCLASSES\u001b[0m\u001b[0;34m[\u001b[0m\u001b[0mimg_labels\u001b[0m\u001b[0;34m[\u001b[0m\u001b[0mi\u001b[0m\u001b[0;34m]\u001b[0m\u001b[0;34m]\u001b[0m\u001b[0;34m)\u001b[0m\u001b[0;34m\u001b[0m\u001b[0;34m\u001b[0m\u001b[0m\n\u001b[0m\u001b[1;32m     11\u001b[0m     \u001b[0mfig\u001b[0m\u001b[0;34m.\u001b[0m\u001b[0msuptitle\u001b[0m\u001b[0;34m(\u001b[0m\u001b[0mtitle\u001b[0m\u001b[0;34m)\u001b[0m\u001b[0;34m\u001b[0m\u001b[0;34m\u001b[0m\u001b[0m\n\u001b[1;32m     12\u001b[0m     \u001b[0;31m#plt.show()\u001b[0m\u001b[0;34m\u001b[0m\u001b[0;34m\u001b[0m\u001b[0;34m\u001b[0m\u001b[0m\n",
            "\u001b[0;31mNameError\u001b[0m: name 'CLASSES' is not defined"
          ]
        },
        {
          "output_type": "display_data",
          "data": {
            "image/png": "[encoded data removed]",
            "text/plain": [
              "<Figure size 576x576 with 1 Axes>"
            ]
          },
          "metadata": {
            "tags": []
          }
        }
      ]
    },
    {
      "cell_type": "markdown",
      "metadata": {
        "id": "3gwX7PNaztHz"
      },
      "source": [
        "# **VAE**"
      ]
    },
    {
      "cell_type": "code",
      "metadata": {
        "id": "DAmqBurAzsmN"
      },
      "source": [
        "#Create a sampling function that uses (z_mean, z_log_sigma) to sample z (using log to ensure positivity of std dev)\n",
        "#Draws samples from a standard normal and scales the samples with standard \n",
        "#deviation of the variational distribution and shifts them by the mean\n",
        "def sampling(args):\n",
        "    z_mean, z_log_sigma = args\n",
        "    #removing the log\n",
        "    z_sigma = tf.keras.backend.exp(z_log_sigma)\n",
        "    #a gaussian tensor\n",
        "    epsilon = tf.keras.backend.random_normal(shape=tf.keras.backend.shape(z_mean), mean=0., stddev=.1)\n",
        "    return z_mean + z_sigma * epsilon"
      ],
      "execution_count": 11,
      "outputs": []
    },
    {
      "cell_type": "code",
      "metadata": {
        "colab": {
          "base_uri": "https://localhost:8080/",
          "height": 282
        },
        "id": "vgMkz4jx2zoe",
        "outputId": "678e80d8-f357-4fe6-e372-6b78c4d873a3"
      },
      "source": [
        "sampled = sampling(X_train)"
      ],
      "execution_count": 20,
      "outputs": [
        {
          "output_type": "error",
          "ename": "ValueError",
          "evalue": "ignored",
          "traceback": [
            "\u001b[0;31m---------------------------------------------------------------------------\u001b[0m",
            "\u001b[0;31mValueError\u001b[0m                                Traceback (most recent call last)",
            "\u001b[0;32m<ipython-input-20-37ac1b55a092>\u001b[0m in \u001b[0;36m<module>\u001b[0;34m()\u001b[0m\n\u001b[0;32m----> 1\u001b[0;31m \u001b[0msampled\u001b[0m \u001b[0;34m=\u001b[0m \u001b[0msampling\u001b[0m\u001b[0;34m(\u001b[0m\u001b[0mX_train\u001b[0m\u001b[0;34m)\u001b[0m\u001b[0;34m\u001b[0m\u001b[0;34m\u001b[0m\u001b[0m\n\u001b[0m",
            "\u001b[0;32m<ipython-input-11-d65558111e0e>\u001b[0m in \u001b[0;36msampling\u001b[0;34m(args)\u001b[0m\n\u001b[1;32m      3\u001b[0m \u001b[0;31m#deviation of the variational distribution and shifts them by the mean\u001b[0m\u001b[0;34m\u001b[0m\u001b[0;34m\u001b[0m\u001b[0;34m\u001b[0m\u001b[0m\n\u001b[1;32m      4\u001b[0m \u001b[0;32mdef\u001b[0m \u001b[0msampling\u001b[0m\u001b[0;34m(\u001b[0m\u001b[0margs\u001b[0m\u001b[0;34m)\u001b[0m\u001b[0;34m:\u001b[0m\u001b[0;34m\u001b[0m\u001b[0;34m\u001b[0m\u001b[0m\n\u001b[0;32m----> 5\u001b[0;31m     \u001b[0mz_mean\u001b[0m\u001b[0;34m,\u001b[0m \u001b[0mz_log_sigma\u001b[0m \u001b[0;34m=\u001b[0m \u001b[0margs\u001b[0m\u001b[0;34m\u001b[0m\u001b[0;34m\u001b[0m\u001b[0m\n\u001b[0m\u001b[1;32m      6\u001b[0m     \u001b[0;31m#removing the log\u001b[0m\u001b[0;34m\u001b[0m\u001b[0;34m\u001b[0m\u001b[0;34m\u001b[0m\u001b[0m\n\u001b[1;32m      7\u001b[0m     \u001b[0mz_sigma\u001b[0m \u001b[0;34m=\u001b[0m \u001b[0mtf\u001b[0m\u001b[0;34m.\u001b[0m\u001b[0mkeras\u001b[0m\u001b[0;34m.\u001b[0m\u001b[0mbackend\u001b[0m\u001b[0;34m.\u001b[0m\u001b[0mexp\u001b[0m\u001b[0;34m(\u001b[0m\u001b[0mz_log_sigma\u001b[0m\u001b[0;34m)\u001b[0m\u001b[0;34m\u001b[0m\u001b[0;34m\u001b[0m\u001b[0m\n",
            "\u001b[0;31mValueError\u001b[0m: too many values to unpack (expected 2)"
          ]
        }
      ]
    },
    {
      "cell_type": "markdown",
      "metadata": {
        "id": "4llqSPHHzzj1"
      },
      "source": [
        "FIRST ENCODER"
      ]
    },
    {
      "cell_type": "code",
      "metadata": {
        "id": "Z4n_P97vz0kg"
      },
      "source": [
        "def create_vae_encoder(IMG_HEIGHT, IMG_WIDTH):\n",
        "    LATENT_DIM = 64 * 64\n",
        "    #encoder\n",
        "    input_image = tf.keras.layers.Input(shape=(IMG_HEIGHT, IMG_WIDTH, 1))\n",
        "    #Arch v2\n",
        "    encoded = tf.keras.layers.Conv2D(16, (2,2), activation=tf.keras.layers.ReLU(), padding='same')(input_image)\n",
        "    encoded = tf.keras.layers.AveragePooling2D(pool_size=(2,2), strides=(2,2))(encoded)\n",
        "    #encoded = tf.keras.layers.BatchNormalization()(encoded)\n",
        "    encoded = tf.keras.layers.Conv2D(32, (2,2), activation=tf.keras.layers.ReLU(), padding='same')(encoded)\n",
        "    encoded = tf.keras.layers.AveragePooling2D(pool_size=(2,2), strides=(2,2))(encoded)\n",
        "    #encoded = tf.keras.layers.BatchNormalization()(encoded)\n",
        "    encoded = tf.keras.layers.Conv2D(64, (2,2), activation=tf.keras.layers.ReLU(), padding='same')(encoded)\n",
        "    encoded = tf.keras.layers.AveragePooling2D(pool_size=(2,2), strides=(2,2))(encoded)\n",
        "    #encoded = tf.keras.layers.BatchNormalization()(encoded)\n",
        "    encoded = tf.keras.layers.Conv2D(128, (2,2), activation=tf.keras.layers.ReLU(), padding='same')(encoded)\n",
        "    encoded = tf.keras.layers.AveragePooling2D(pool_size=(2,2), strides=(2,2))(encoded)\n",
        "    encoded = tf.keras.layers.Conv2D(256, (2,2), activation=tf.keras.layers.ReLU(), padding='same')(encoded)\n",
        "    encoded = tf.keras.layers.Conv2D(512, (2,2), activation=tf.keras.layers.ReLU(), padding='same')(encoded)\n",
        "    encoded = tf.keras.layers.AveragePooling2D(pool_size=(2,2), strides=(2,2))(encoded)\n",
        "    encoded = tf.keras.layers.Conv2D(512, (2,2), activation=tf.keras.layers.ReLU(), padding='same')(encoded)\n",
        "    encoded = tf.keras.layers.Conv2D(1024, (2,2), activation=tf.keras.layers.ReLU(), padding='same')(encoded)\n",
        "    encoded = tf.keras.layers.AveragePooling2D(pool_size=(2,2), strides=(2,2))(encoded)\n",
        "    encoded = tf.keras.layers.Flatten()(encoded)\n",
        "    encoded = tf.keras.layers.Dense(256, activation=tf.keras.layers.ReLU())(encoded)\n",
        "    encoded = tf.keras.layers.Dense(32, activation=tf.keras.layers.ReLU())(encoded)\n",
        "    '''\n",
        "    #Arch v1\n",
        "    encoded = tf.keras.layers.Conv2D(32, (2,2), activation=tf.keras.layers.ReLU(), padding='same')(input_image)\n",
        "    encoded = tf.keras.layers.MaxPool2D(pool_size=(2,2), strides=(2,2))(encoded)\n",
        "    encoded = tf.keras.layers.Conv2D(64, (2,2), activation=tf.keras.layers.ReLU(), padding='same')(encoded)\n",
        "    encoded = tf.keras.layers.MaxPool2D(pool_size=(2,2), strides=(2,2))(encoded)\n",
        "    if img_height == 128:\n",
        "        encoded = tf.keras.layers.Conv2D(64, (2,2), activation=tf.keras.layers.ReLU(), padding='same')(encoded)\n",
        "        encoded = tf.keras.layers.MaxPool2D(pool_size=(2,2), strides=(2,2))(encoded)\n",
        "    encoded = tf.keras.layers.Flatten()(encoded)\n",
        "    encoded = tf.keras.layers.Dense(32, activation=tf.keras.layers.ReLU())(encoded)\n",
        "    '''\n",
        "    z_mean = tf.keras.layers.Dense(LATENT_DIM, name='z_mean')(encoded) \n",
        "    z_log_sigma = tf.keras.layers.Dense(LATENT_DIM, name='z_log_sigma')(encoded) \n",
        "    #using the sampling function within a lambda layer to obtain our sampled z\n",
        "    z = tf.keras.layers.Lambda(sampling, name='z')([z_mean, z_log_sigma]) \n",
        "    #the model\n",
        "    encoder = tf.keras.Model(inputs=input_image, outputs=[z_mean, z_log_sigma, z], name='encoder')\n",
        "    #print(\"\\n############### ENCODER #################\")\n",
        "    #encoder.summary()\n",
        "    return encoder"
      ],
      "execution_count": 53,
      "outputs": []
    },
    {
      "cell_type": "markdown",
      "metadata": {
        "id": "TEaATmW6z2kJ"
      },
      "source": [
        "THEN, DECODER"
      ]
    },
    {
      "cell_type": "code",
      "metadata": {
        "id": "YgSkwx2gz4vc"
      },
      "source": [
        "def create_vae_decoder(img_height):\n",
        "    #decoder\n",
        "    LATENT_DIM = 64 * 64\n",
        "    input_latent = tf.keras.layers.Input(shape=(LATENT_DIM,)) \n",
        "    #Arch v2\n",
        "    decoded = tf.keras.layers.Dense(4 * 4 * 16, activation=tf.keras.layers.LeakyReLU(alpha=0.1))(input_latent) #check the encoder shape on the last conv layer\n",
        "    decoded = tf.keras.layers.Reshape((4, 4, 16))(decoded)\n",
        "    decoded = tf.keras.layers.Conv2DTranspose(1024, (2,2), activation=tf.keras.layers.ReLU(), padding='same', strides=(2,2))(decoded)\n",
        "    decoded = tf.keras.layers.Conv2DTranspose(512, (2,2), activation=tf.keras.layers.ReLU(), padding='same', strides=(2,2))(decoded)\n",
        "    decoded = tf.keras.layers.Conv2DTranspose(256, (2,2), activation=tf.keras.layers.ReLU(), padding='same', strides=(2,2))(decoded)\n",
        "    decoded = tf.keras.layers.Conv2DTranspose(128, (2,2), activation=tf.keras.layers.ReLU(), padding='same', strides=(2,2))(decoded)\n",
        "    decoded = tf.keras.layers.Conv2DTranspose(64, (2,2), activation=tf.keras.layers.ReLU(), padding='same', strides=(2,2))(decoded)\n",
        "    decoded = tf.keras.layers.Conv2DTranspose(32, (2,2), activation=tf.keras.layers.ReLU(), padding='same', strides=(2,2))(decoded)\n",
        "    '''\n",
        "    #Arch v1\n",
        "    decoded = tf.keras.layers.Dense(4 * 4 * 16, activation=tf.keras.layers.LeakyReLU(alpha=0.1))(input_latent) #check the encoder shape on the last conv layer\n",
        "    decoded = tf.keras.layers.Reshape((4, 4, 16))(decoded)\n",
        "    decoded = tf.keras.layers.Conv2DTranspose(16, (2,2), activation=tf.keras.layers.ReLU(), padding='same', strides=(2,2))(decoded)\n",
        "    decoded = tf.keras.layers.Conv2DTranspose(32, (2,2), activation=tf.keras.layers.ReLU(), padding='same', strides=(2,2))(decoded)\n",
        "    decoded = tf.keras.layers.Conv2DTranspose(32, (2,2), activation=tf.keras.layers.ReLU(), padding='same', strides=(2,2))(decoded)\n",
        "    decoded = tf.keras.layers.Conv2DTranspose(64, (2,2), activation=tf.keras.layers.ReLU(), padding='same', strides=(2,2))(decoded)\n",
        "    if img_height == 128:\n",
        "        decoded = tf.keras.layers.Conv2DTranspose(128, (2,2), activation=tf.keras.layers.ReLU(), padding='same', strides=(2,2))(decoded)\n",
        "    '''\n",
        "    decoded = tf.keras.layers.Conv2D(1, (3,3), activation='sigmoid', padding='same')(decoded)\n",
        "    #the model\n",
        "    decoder = tf.keras.Model(inputs=input_latent, outputs=decoded, name='decoder')\n",
        "    #print(\"\\n############### DECODER #################\")\n",
        "    #decoder.summary()  \n",
        "    return decoder"
      ],
      "execution_count": 54,
      "outputs": []
    },
    {
      "cell_type": "markdown",
      "metadata": {
        "id": "FQHUbq9Ez6mD"
      },
      "source": [
        "NOW, THE VAE"
      ]
    },
    {
      "cell_type": "code",
      "metadata": {
        "id": "570__0k1z7vY"
      },
      "source": [
        "def create_vae(encoder, decoder):\n",
        "    IMG_HEIGHT = 64\n",
        "    IMG_WIDTH = 64\n",
        "    input_image = tf.keras.layers.Input(shape=(IMG_HEIGHT, IMG_WIDTH, 1))\n",
        "    z_mean, z_log_sigma, z = encoder(input_image)\n",
        "    z_decoded = decoder(z)\n",
        "    vae = tf.keras.Model(inputs=input_image, outputs=z_decoded, name='vae')\n",
        "    print(\"\\n############### VAE #################\")\n",
        "    vae.summary()  \n",
        "    #Two loss functions\n",
        "    #rc_loss - a reconstruction loss forcing the decoded samples to match the initial input (higher loss)\n",
        "    #kl_loss - a KL divergence between the learned latent distribution and the prior distribution, acting as a regularization term\n",
        "    #helps learning well-formed latent spaces and reducing overfitting to the training data\n",
        "    rc_loss = tf.keras.backend.sum(tf.keras.backend.binary_crossentropy(tf.keras.backend.batch_flatten(input_image), tf.keras.backend.batch_flatten(z_decoded)))\n",
        "    kl_loss = -0.5 * tf.keras.backend.sum(1 + z_log_sigma - tf.keras.backend.square(z_mean) - tf.keras.backend.exp(z_log_sigma), axis=-1)\n",
        "    vae_loss = tf.keras.backend.mean(rc_loss + kl_loss)\n",
        "    vae.add_loss(vae_loss)    \n",
        "    return vae, z_mean, z_log_sigma"
      ],
      "execution_count": 34,
      "outputs": []
    },
    {
      "cell_type": "code",
      "metadata": {
        "colab": {
          "base_uri": "https://localhost:8080/"
        },
        "id": "kL8neat140vI",
        "outputId": "d624d34c-1a1d-426a-f8ff-5d2e1930729b"
      },
      "source": [
        "vae, z_mean, z_log_sigma = create_vae(create_vae_encoder(64,64),create_vae_decoder(64))"
      ],
      "execution_count": 55,
      "outputs": [
        {
          "output_type": "stream",
          "text": [
            "\n",
            "############### VAE #################\n",
            "Model: \"vae\"\n",
            "_________________________________________________________________\n",
            "Layer (type)                 Output Shape              Param #   \n",
            "=================================================================\n",
            "input_18 (InputLayer)        [(None, 64, 64, 1)]       0         \n",
            "_________________________________________________________________\n",
            "encoder (Functional)         [(None, 4096), (None, 409 4387664   \n",
            "_________________________________________________________________\n",
            "decoder (Functional)         (None, 256, 256, 1)       3910145   \n",
            "=================================================================\n",
            "Total params: 8,297,809\n",
            "Trainable params: 8,297,809\n",
            "Non-trainable params: 0\n",
            "_________________________________________________________________\n"
          ],
          "name": "stdout"
        }
      ]
    },
    {
      "cell_type": "code",
      "metadata": {
        "colab": {
          "base_uri": "https://localhost:8080/",
          "height": 1000
        },
        "id": "vErvBsFe64hF",
        "outputId": "301e2648-1ca8-40a8-d9be-a9cb365ede83"
      },
      "source": [
        "vae.compile()\n",
        "vae.evaluate(X_train)"
      ],
      "execution_count": 59,
      "outputs": [
        {
          "output_type": "error",
          "ename": "ValueError",
          "evalue": "ignored",
          "traceback": [
            "\u001b[0;31m---------------------------------------------------------------------------\u001b[0m",
            "\u001b[0;31mValueError\u001b[0m                                Traceback (most recent call last)",
            "\u001b[0;32m<ipython-input-59-af218b3dd405>\u001b[0m in \u001b[0;36m<module>\u001b[0;34m()\u001b[0m\n\u001b[1;32m      1\u001b[0m \u001b[0mvae\u001b[0m\u001b[0;34m.\u001b[0m\u001b[0mcompile\u001b[0m\u001b[0;34m(\u001b[0m\u001b[0;34m)\u001b[0m\u001b[0;34m\u001b[0m\u001b[0;34m\u001b[0m\u001b[0m\n\u001b[0;32m----> 2\u001b[0;31m \u001b[0mvae\u001b[0m\u001b[0;34m.\u001b[0m\u001b[0mevaluate\u001b[0m\u001b[0;34m(\u001b[0m\u001b[0mX_train\u001b[0m\u001b[0;34m)\u001b[0m\u001b[0;34m\u001b[0m\u001b[0;34m\u001b[0m\u001b[0m\n\u001b[0m",
            "\u001b[0;32m/usr/local/lib/python3.7/dist-packages/tensorflow/python/keras/engine/training.py\u001b[0m in \u001b[0;36mevaluate\u001b[0;34m(self, x, y, batch_size, verbose, sample_weight, steps, callbacks, max_queue_size, workers, use_multiprocessing, return_dict)\u001b[0m\n\u001b[1;32m   1387\u001b[0m             \u001b[0;32mwith\u001b[0m \u001b[0mtrace\u001b[0m\u001b[0;34m.\u001b[0m\u001b[0mTrace\u001b[0m\u001b[0;34m(\u001b[0m\u001b[0;34m'test'\u001b[0m\u001b[0;34m,\u001b[0m \u001b[0mstep_num\u001b[0m\u001b[0;34m=\u001b[0m\u001b[0mstep\u001b[0m\u001b[0;34m,\u001b[0m \u001b[0m_r\u001b[0m\u001b[0;34m=\u001b[0m\u001b[0;36m1\u001b[0m\u001b[0;34m)\u001b[0m\u001b[0;34m:\u001b[0m\u001b[0;34m\u001b[0m\u001b[0;34m\u001b[0m\u001b[0m\n\u001b[1;32m   1388\u001b[0m               \u001b[0mcallbacks\u001b[0m\u001b[0;34m.\u001b[0m\u001b[0mon_test_batch_begin\u001b[0m\u001b[0;34m(\u001b[0m\u001b[0mstep\u001b[0m\u001b[0;34m)\u001b[0m\u001b[0;34m\u001b[0m\u001b[0;34m\u001b[0m\u001b[0m\n\u001b[0;32m-> 1389\u001b[0;31m               \u001b[0mtmp_logs\u001b[0m \u001b[0;34m=\u001b[0m \u001b[0mself\u001b[0m\u001b[0;34m.\u001b[0m\u001b[0mtest_function\u001b[0m\u001b[0;34m(\u001b[0m\u001b[0miterator\u001b[0m\u001b[0;34m)\u001b[0m\u001b[0;34m\u001b[0m\u001b[0;34m\u001b[0m\u001b[0m\n\u001b[0m\u001b[1;32m   1390\u001b[0m               \u001b[0;32mif\u001b[0m \u001b[0mdata_handler\u001b[0m\u001b[0;34m.\u001b[0m\u001b[0mshould_sync\u001b[0m\u001b[0;34m:\u001b[0m\u001b[0;34m\u001b[0m\u001b[0;34m\u001b[0m\u001b[0m\n\u001b[1;32m   1391\u001b[0m                 \u001b[0mcontext\u001b[0m\u001b[0;34m.\u001b[0m\u001b[0masync_wait\u001b[0m\u001b[0;34m(\u001b[0m\u001b[0;34m)\u001b[0m\u001b[0;34m\u001b[0m\u001b[0;34m\u001b[0m\u001b[0m\n",
            "\u001b[0;32m/usr/local/lib/python3.7/dist-packages/tensorflow/python/eager/def_function.py\u001b[0m in \u001b[0;36m__call__\u001b[0;34m(self, *args, **kwds)\u001b[0m\n\u001b[1;32m    826\u001b[0m     \u001b[0mtracing_count\u001b[0m \u001b[0;34m=\u001b[0m \u001b[0mself\u001b[0m\u001b[0;34m.\u001b[0m\u001b[0mexperimental_get_tracing_count\u001b[0m\u001b[0;34m(\u001b[0m\u001b[0;34m)\u001b[0m\u001b[0;34m\u001b[0m\u001b[0;34m\u001b[0m\u001b[0m\n\u001b[1;32m    827\u001b[0m     \u001b[0;32mwith\u001b[0m \u001b[0mtrace\u001b[0m\u001b[0;34m.\u001b[0m\u001b[0mTrace\u001b[0m\u001b[0;34m(\u001b[0m\u001b[0mself\u001b[0m\u001b[0;34m.\u001b[0m\u001b[0m_name\u001b[0m\u001b[0;34m)\u001b[0m \u001b[0;32mas\u001b[0m \u001b[0mtm\u001b[0m\u001b[0;34m:\u001b[0m\u001b[0;34m\u001b[0m\u001b[0;34m\u001b[0m\u001b[0m\n\u001b[0;32m--> 828\u001b[0;31m       \u001b[0mresult\u001b[0m \u001b[0;34m=\u001b[0m \u001b[0mself\u001b[0m\u001b[0;34m.\u001b[0m\u001b[0m_call\u001b[0m\u001b[0;34m(\u001b[0m\u001b[0;34m*\u001b[0m\u001b[0margs\u001b[0m\u001b[0;34m,\u001b[0m \u001b[0;34m**\u001b[0m\u001b[0mkwds\u001b[0m\u001b[0;34m)\u001b[0m\u001b[0;34m\u001b[0m\u001b[0;34m\u001b[0m\u001b[0m\n\u001b[0m\u001b[1;32m    829\u001b[0m       \u001b[0mcompiler\u001b[0m \u001b[0;34m=\u001b[0m \u001b[0;34m\"xla\"\u001b[0m \u001b[0;32mif\u001b[0m \u001b[0mself\u001b[0m\u001b[0;34m.\u001b[0m\u001b[0m_experimental_compile\u001b[0m \u001b[0;32melse\u001b[0m \u001b[0;34m\"nonXla\"\u001b[0m\u001b[0;34m\u001b[0m\u001b[0;34m\u001b[0m\u001b[0m\n\u001b[1;32m    830\u001b[0m       \u001b[0mnew_tracing_count\u001b[0m \u001b[0;34m=\u001b[0m \u001b[0mself\u001b[0m\u001b[0;34m.\u001b[0m\u001b[0mexperimental_get_tracing_count\u001b[0m\u001b[0;34m(\u001b[0m\u001b[0;34m)\u001b[0m\u001b[0;34m\u001b[0m\u001b[0;34m\u001b[0m\u001b[0m\n",
            "\u001b[0;32m/usr/local/lib/python3.7/dist-packages/tensorflow/python/eager/def_function.py\u001b[0m in \u001b[0;36m_call\u001b[0;34m(self, *args, **kwds)\u001b[0m\n\u001b[1;32m    869\u001b[0m       \u001b[0;31m# This is the first call of __call__, so we have to initialize.\u001b[0m\u001b[0;34m\u001b[0m\u001b[0;34m\u001b[0m\u001b[0;34m\u001b[0m\u001b[0m\n\u001b[1;32m    870\u001b[0m       \u001b[0minitializers\u001b[0m \u001b[0;34m=\u001b[0m \u001b[0;34m[\u001b[0m\u001b[0;34m]\u001b[0m\u001b[0;34m\u001b[0m\u001b[0;34m\u001b[0m\u001b[0m\n\u001b[0;32m--> 871\u001b[0;31m       \u001b[0mself\u001b[0m\u001b[0;34m.\u001b[0m\u001b[0m_initialize\u001b[0m\u001b[0;34m(\u001b[0m\u001b[0margs\u001b[0m\u001b[0;34m,\u001b[0m \u001b[0mkwds\u001b[0m\u001b[0;34m,\u001b[0m \u001b[0madd_initializers_to\u001b[0m\u001b[0;34m=\u001b[0m\u001b[0minitializers\u001b[0m\u001b[0;34m)\u001b[0m\u001b[0;34m\u001b[0m\u001b[0;34m\u001b[0m\u001b[0m\n\u001b[0m\u001b[1;32m    872\u001b[0m     \u001b[0;32mfinally\u001b[0m\u001b[0;34m:\u001b[0m\u001b[0;34m\u001b[0m\u001b[0;34m\u001b[0m\u001b[0m\n\u001b[1;32m    873\u001b[0m       \u001b[0;31m# At this point we know that the initialization is complete (or less\u001b[0m\u001b[0;34m\u001b[0m\u001b[0;34m\u001b[0m\u001b[0;34m\u001b[0m\u001b[0m\n",
            "\u001b[0;32m/usr/local/lib/python3.7/dist-packages/tensorflow/python/eager/def_function.py\u001b[0m in \u001b[0;36m_initialize\u001b[0;34m(self, args, kwds, add_initializers_to)\u001b[0m\n\u001b[1;32m    724\u001b[0m     self._concrete_stateful_fn = (\n\u001b[1;32m    725\u001b[0m         self._stateful_fn._get_concrete_function_internal_garbage_collected(  # pylint: disable=protected-access\n\u001b[0;32m--> 726\u001b[0;31m             *args, **kwds))\n\u001b[0m\u001b[1;32m    727\u001b[0m \u001b[0;34m\u001b[0m\u001b[0m\n\u001b[1;32m    728\u001b[0m     \u001b[0;32mdef\u001b[0m \u001b[0minvalid_creator_scope\u001b[0m\u001b[0;34m(\u001b[0m\u001b[0;34m*\u001b[0m\u001b[0munused_args\u001b[0m\u001b[0;34m,\u001b[0m \u001b[0;34m**\u001b[0m\u001b[0munused_kwds\u001b[0m\u001b[0;34m)\u001b[0m\u001b[0;34m:\u001b[0m\u001b[0;34m\u001b[0m\u001b[0;34m\u001b[0m\u001b[0m\n",
            "\u001b[0;32m/usr/local/lib/python3.7/dist-packages/tensorflow/python/eager/function.py\u001b[0m in \u001b[0;36m_get_concrete_function_internal_garbage_collected\u001b[0;34m(self, *args, **kwargs)\u001b[0m\n\u001b[1;32m   2967\u001b[0m       \u001b[0margs\u001b[0m\u001b[0;34m,\u001b[0m \u001b[0mkwargs\u001b[0m \u001b[0;34m=\u001b[0m \u001b[0;32mNone\u001b[0m\u001b[0;34m,\u001b[0m \u001b[0;32mNone\u001b[0m\u001b[0;34m\u001b[0m\u001b[0;34m\u001b[0m\u001b[0m\n\u001b[1;32m   2968\u001b[0m     \u001b[0;32mwith\u001b[0m \u001b[0mself\u001b[0m\u001b[0;34m.\u001b[0m\u001b[0m_lock\u001b[0m\u001b[0;34m:\u001b[0m\u001b[0;34m\u001b[0m\u001b[0;34m\u001b[0m\u001b[0m\n\u001b[0;32m-> 2969\u001b[0;31m       \u001b[0mgraph_function\u001b[0m\u001b[0;34m,\u001b[0m \u001b[0m_\u001b[0m \u001b[0;34m=\u001b[0m \u001b[0mself\u001b[0m\u001b[0;34m.\u001b[0m\u001b[0m_maybe_define_function\u001b[0m\u001b[0;34m(\u001b[0m\u001b[0margs\u001b[0m\u001b[0;34m,\u001b[0m \u001b[0mkwargs\u001b[0m\u001b[0;34m)\u001b[0m\u001b[0;34m\u001b[0m\u001b[0;34m\u001b[0m\u001b[0m\n\u001b[0m\u001b[1;32m   2970\u001b[0m     \u001b[0;32mreturn\u001b[0m \u001b[0mgraph_function\u001b[0m\u001b[0;34m\u001b[0m\u001b[0;34m\u001b[0m\u001b[0m\n\u001b[1;32m   2971\u001b[0m \u001b[0;34m\u001b[0m\u001b[0m\n",
            "\u001b[0;32m/usr/local/lib/python3.7/dist-packages/tensorflow/python/eager/function.py\u001b[0m in \u001b[0;36m_maybe_define_function\u001b[0;34m(self, args, kwargs)\u001b[0m\n\u001b[1;32m   3359\u001b[0m \u001b[0;34m\u001b[0m\u001b[0m\n\u001b[1;32m   3360\u001b[0m           \u001b[0mself\u001b[0m\u001b[0;34m.\u001b[0m\u001b[0m_function_cache\u001b[0m\u001b[0;34m.\u001b[0m\u001b[0mmissed\u001b[0m\u001b[0;34m.\u001b[0m\u001b[0madd\u001b[0m\u001b[0;34m(\u001b[0m\u001b[0mcall_context_key\u001b[0m\u001b[0;34m)\u001b[0m\u001b[0;34m\u001b[0m\u001b[0;34m\u001b[0m\u001b[0m\n\u001b[0;32m-> 3361\u001b[0;31m           \u001b[0mgraph_function\u001b[0m \u001b[0;34m=\u001b[0m \u001b[0mself\u001b[0m\u001b[0;34m.\u001b[0m\u001b[0m_create_graph_function\u001b[0m\u001b[0;34m(\u001b[0m\u001b[0margs\u001b[0m\u001b[0;34m,\u001b[0m \u001b[0mkwargs\u001b[0m\u001b[0;34m)\u001b[0m\u001b[0;34m\u001b[0m\u001b[0;34m\u001b[0m\u001b[0m\n\u001b[0m\u001b[1;32m   3362\u001b[0m           \u001b[0mself\u001b[0m\u001b[0;34m.\u001b[0m\u001b[0m_function_cache\u001b[0m\u001b[0;34m.\u001b[0m\u001b[0mprimary\u001b[0m\u001b[0;34m[\u001b[0m\u001b[0mcache_key\u001b[0m\u001b[0;34m]\u001b[0m \u001b[0;34m=\u001b[0m \u001b[0mgraph_function\u001b[0m\u001b[0;34m\u001b[0m\u001b[0;34m\u001b[0m\u001b[0m\n\u001b[1;32m   3363\u001b[0m \u001b[0;34m\u001b[0m\u001b[0m\n",
            "\u001b[0;32m/usr/local/lib/python3.7/dist-packages/tensorflow/python/eager/function.py\u001b[0m in \u001b[0;36m_create_graph_function\u001b[0;34m(self, args, kwargs, override_flat_arg_shapes)\u001b[0m\n\u001b[1;32m   3204\u001b[0m             \u001b[0marg_names\u001b[0m\u001b[0;34m=\u001b[0m\u001b[0marg_names\u001b[0m\u001b[0;34m,\u001b[0m\u001b[0;34m\u001b[0m\u001b[0;34m\u001b[0m\u001b[0m\n\u001b[1;32m   3205\u001b[0m             \u001b[0moverride_flat_arg_shapes\u001b[0m\u001b[0;34m=\u001b[0m\u001b[0moverride_flat_arg_shapes\u001b[0m\u001b[0;34m,\u001b[0m\u001b[0;34m\u001b[0m\u001b[0;34m\u001b[0m\u001b[0m\n\u001b[0;32m-> 3206\u001b[0;31m             capture_by_value=self._capture_by_value),\n\u001b[0m\u001b[1;32m   3207\u001b[0m         \u001b[0mself\u001b[0m\u001b[0;34m.\u001b[0m\u001b[0m_function_attributes\u001b[0m\u001b[0;34m,\u001b[0m\u001b[0;34m\u001b[0m\u001b[0;34m\u001b[0m\u001b[0m\n\u001b[1;32m   3208\u001b[0m         \u001b[0mfunction_spec\u001b[0m\u001b[0;34m=\u001b[0m\u001b[0mself\u001b[0m\u001b[0;34m.\u001b[0m\u001b[0mfunction_spec\u001b[0m\u001b[0;34m,\u001b[0m\u001b[0;34m\u001b[0m\u001b[0;34m\u001b[0m\u001b[0m\n",
            "\u001b[0;32m/usr/local/lib/python3.7/dist-packages/tensorflow/python/framework/func_graph.py\u001b[0m in \u001b[0;36mfunc_graph_from_py_func\u001b[0;34m(name, python_func, args, kwargs, signature, func_graph, autograph, autograph_options, add_control_dependencies, arg_names, op_return_value, collections, capture_by_value, override_flat_arg_shapes)\u001b[0m\n\u001b[1;32m    988\u001b[0m         \u001b[0m_\u001b[0m\u001b[0;34m,\u001b[0m \u001b[0moriginal_func\u001b[0m \u001b[0;34m=\u001b[0m \u001b[0mtf_decorator\u001b[0m\u001b[0;34m.\u001b[0m\u001b[0munwrap\u001b[0m\u001b[0;34m(\u001b[0m\u001b[0mpython_func\u001b[0m\u001b[0;34m)\u001b[0m\u001b[0;34m\u001b[0m\u001b[0;34m\u001b[0m\u001b[0m\n\u001b[1;32m    989\u001b[0m \u001b[0;34m\u001b[0m\u001b[0m\n\u001b[0;32m--> 990\u001b[0;31m       \u001b[0mfunc_outputs\u001b[0m \u001b[0;34m=\u001b[0m \u001b[0mpython_func\u001b[0m\u001b[0;34m(\u001b[0m\u001b[0;34m*\u001b[0m\u001b[0mfunc_args\u001b[0m\u001b[0;34m,\u001b[0m \u001b[0;34m**\u001b[0m\u001b[0mfunc_kwargs\u001b[0m\u001b[0;34m)\u001b[0m\u001b[0;34m\u001b[0m\u001b[0;34m\u001b[0m\u001b[0m\n\u001b[0m\u001b[1;32m    991\u001b[0m \u001b[0;34m\u001b[0m\u001b[0m\n\u001b[1;32m    992\u001b[0m       \u001b[0;31m# invariant: `func_outputs` contains only Tensors, CompositeTensors,\u001b[0m\u001b[0;34m\u001b[0m\u001b[0;34m\u001b[0m\u001b[0;34m\u001b[0m\u001b[0m\n",
            "\u001b[0;32m/usr/local/lib/python3.7/dist-packages/tensorflow/python/eager/def_function.py\u001b[0m in \u001b[0;36mwrapped_fn\u001b[0;34m(*args, **kwds)\u001b[0m\n\u001b[1;32m    632\u001b[0m             \u001b[0mxla_context\u001b[0m\u001b[0;34m.\u001b[0m\u001b[0mExit\u001b[0m\u001b[0;34m(\u001b[0m\u001b[0;34m)\u001b[0m\u001b[0;34m\u001b[0m\u001b[0;34m\u001b[0m\u001b[0m\n\u001b[1;32m    633\u001b[0m         \u001b[0;32melse\u001b[0m\u001b[0;34m:\u001b[0m\u001b[0;34m\u001b[0m\u001b[0;34m\u001b[0m\u001b[0m\n\u001b[0;32m--> 634\u001b[0;31m           \u001b[0mout\u001b[0m \u001b[0;34m=\u001b[0m \u001b[0mweak_wrapped_fn\u001b[0m\u001b[0;34m(\u001b[0m\u001b[0;34m)\u001b[0m\u001b[0;34m.\u001b[0m\u001b[0m__wrapped__\u001b[0m\u001b[0;34m(\u001b[0m\u001b[0;34m*\u001b[0m\u001b[0margs\u001b[0m\u001b[0;34m,\u001b[0m \u001b[0;34m**\u001b[0m\u001b[0mkwds\u001b[0m\u001b[0;34m)\u001b[0m\u001b[0;34m\u001b[0m\u001b[0;34m\u001b[0m\u001b[0m\n\u001b[0m\u001b[1;32m    635\u001b[0m         \u001b[0;32mreturn\u001b[0m \u001b[0mout\u001b[0m\u001b[0;34m\u001b[0m\u001b[0;34m\u001b[0m\u001b[0m\n\u001b[1;32m    636\u001b[0m \u001b[0;34m\u001b[0m\u001b[0m\n",
            "\u001b[0;32m/usr/local/lib/python3.7/dist-packages/tensorflow/python/framework/func_graph.py\u001b[0m in \u001b[0;36mwrapper\u001b[0;34m(*args, **kwargs)\u001b[0m\n\u001b[1;32m    975\u001b[0m           \u001b[0;32mexcept\u001b[0m \u001b[0mException\u001b[0m \u001b[0;32mas\u001b[0m \u001b[0me\u001b[0m\u001b[0;34m:\u001b[0m  \u001b[0;31m# pylint:disable=broad-except\u001b[0m\u001b[0;34m\u001b[0m\u001b[0;34m\u001b[0m\u001b[0m\n\u001b[1;32m    976\u001b[0m             \u001b[0;32mif\u001b[0m \u001b[0mhasattr\u001b[0m\u001b[0;34m(\u001b[0m\u001b[0me\u001b[0m\u001b[0;34m,\u001b[0m \u001b[0;34m\"ag_error_metadata\"\u001b[0m\u001b[0;34m)\u001b[0m\u001b[0;34m:\u001b[0m\u001b[0;34m\u001b[0m\u001b[0;34m\u001b[0m\u001b[0m\n\u001b[0;32m--> 977\u001b[0;31m               \u001b[0;32mraise\u001b[0m \u001b[0me\u001b[0m\u001b[0;34m.\u001b[0m\u001b[0mag_error_metadata\u001b[0m\u001b[0;34m.\u001b[0m\u001b[0mto_exception\u001b[0m\u001b[0;34m(\u001b[0m\u001b[0me\u001b[0m\u001b[0;34m)\u001b[0m\u001b[0;34m\u001b[0m\u001b[0;34m\u001b[0m\u001b[0m\n\u001b[0m\u001b[1;32m    978\u001b[0m             \u001b[0;32melse\u001b[0m\u001b[0;34m:\u001b[0m\u001b[0;34m\u001b[0m\u001b[0;34m\u001b[0m\u001b[0m\n\u001b[1;32m    979\u001b[0m               \u001b[0;32mraise\u001b[0m\u001b[0;34m\u001b[0m\u001b[0;34m\u001b[0m\u001b[0m\n",
            "\u001b[0;31mValueError\u001b[0m: in user code:\n\n    /usr/local/lib/python3.7/dist-packages/tensorflow/python/keras/engine/training.py:1233 test_function  *\n        return step_function(self, iterator)\n    /usr/local/lib/python3.7/dist-packages/tensorflow/python/keras/engine/training.py:1224 step_function  **\n        outputs = model.distribute_strategy.run(run_step, args=(data,))\n    /usr/local/lib/python3.7/dist-packages/tensorflow/python/distribute/distribute_lib.py:1259 run\n        return self._extended.call_for_each_replica(fn, args=args, kwargs=kwargs)\n    /usr/local/lib/python3.7/dist-packages/tensorflow/python/distribute/distribute_lib.py:2730 call_for_each_replica\n        return self._call_for_each_replica(fn, args, kwargs)\n    /usr/local/lib/python3.7/dist-packages/tensorflow/python/distribute/distribute_lib.py:3417 _call_for_each_replica\n        return fn(*args, **kwargs)\n    /usr/local/lib/python3.7/dist-packages/tensorflow/python/keras/engine/training.py:1217 run_step  **\n        outputs = model.test_step(data)\n    /usr/local/lib/python3.7/dist-packages/tensorflow/python/keras/engine/training.py:1183 test_step\n        y_pred = self(x, training=False)\n    /usr/local/lib/python3.7/dist-packages/tensorflow/python/keras/engine/base_layer.py:1012 __call__\n        outputs = call_fn(inputs, *args, **kwargs)\n    /usr/local/lib/python3.7/dist-packages/tensorflow/python/keras/engine/functional.py:425 call\n        inputs, training=training, mask=mask)\n    /usr/local/lib/python3.7/dist-packages/tensorflow/python/keras/engine/functional.py:560 _run_internal_graph\n        outputs = node.layer(*args, **kwargs)\n    /usr/local/lib/python3.7/dist-packages/tensorflow/python/keras/engine/base_layer.py:1012 __call__\n        outputs = call_fn(inputs, *args, **kwargs)\n    /usr/local/lib/python3.7/dist-packages/tensorflow/python/keras/layers/core.py:1327 _call_wrapper\n        return self._call_wrapper(*args, **kwargs)\n    /usr/local/lib/python3.7/dist-packages/tensorflow/python/keras/layers/core.py:1359 _call_wrapper\n        result = self.function(*args, **kwargs)\n    /usr/local/lib/python3.7/dist-packages/tensorflow/python/util/dispatch.py:201 wrapper\n        return target(*args, **kwargs)\n    /usr/local/lib/python3.7/dist-packages/tensorflow/python/keras/backend.py:4994 binary_crossentropy\n        bce = target * math_ops.log(output + epsilon())\n    /usr/local/lib/python3.7/dist-packages/tensorflow/python/ops/math_ops.py:1180 binary_op_wrapper\n        raise e\n    /usr/local/lib/python3.7/dist-packages/tensorflow/python/ops/math_ops.py:1164 binary_op_wrapper\n        return func(x, y, name=name)\n    /usr/local/lib/python3.7/dist-packages/tensorflow/python/ops/math_ops.py:1496 _mul_dispatch\n        return multiply(x, y, name=name)\n    /usr/local/lib/python3.7/dist-packages/tensorflow/python/util/dispatch.py:201 wrapper\n        return target(*args, **kwargs)\n    /usr/local/lib/python3.7/dist-packages/tensorflow/python/ops/math_ops.py:518 multiply\n        return gen_math_ops.mul(x, y, name)\n    /usr/local/lib/python3.7/dist-packages/tensorflow/python/ops/gen_math_ops.py:6078 mul\n        \"Mul\", x=x, y=y, name=name)\n    /usr/local/lib/python3.7/dist-packages/tensorflow/python/framework/op_def_library.py:750 _apply_op_helper\n        attrs=attr_protos, op_def=op_def)\n    /usr/local/lib/python3.7/dist-packages/tensorflow/python/framework/func_graph.py:592 _create_op_internal\n        compute_device)\n    /usr/local/lib/python3.7/dist-packages/tensorflow/python/framework/ops.py:3536 _create_op_internal\n        op_def=op_def)\n    /usr/local/lib/python3.7/dist-packages/tensorflow/python/framework/ops.py:2016 __init__\n        control_input_ops, op_def)\n    /usr/local/lib/python3.7/dist-packages/tensorflow/python/framework/ops.py:1856 _create_c_op\n        raise ValueError(str(e))\n\n    ValueError: Dimensions must be equal, but are 4096 and 65536 for '{{node vae/tf.keras.backend.binary_crossentropy_4/mul}} = Mul[T=DT_FLOAT](vae/tf.keras.backend.batch_flatten_8/Reshape, vae/tf.keras.backend.binary_crossentropy_4/Log)' with input shapes: [32,4096], [32,65536].\n"
          ]
        }
      ]
    },
    {
      "cell_type": "markdown",
      "metadata": {
        "id": "NthvKIZd1NUK"
      },
      "source": [
        "# **TESTE**"
      ]
    },
    {
      "cell_type": "code",
      "metadata": {
        "id": "M2CGakgP1Dwr"
      },
      "source": [
        "import numpy as np\n",
        "#Import images with 64x64 resolution\n",
        "img_64 = np.load('./array_of_images_64_64_20210316.npy')\n",
        "label_64= np.load('./array_of_labels_64_64_20210316.npy')"
      ],
      "execution_count": 2,
      "outputs": []
    },
    {
      "cell_type": "code",
      "metadata": {
        "id": "a6Xt6j9D1O9w"
      },
      "source": [
        "import tensorflow as tf\n",
        "import matplotlib.pyplot as plt\n",
        "%matplotlib inline"
      ],
      "execution_count": 3,
      "outputs": []
    },
    {
      "cell_type": "code",
      "metadata": {
        "id": "bQjsnfCy1Sbq"
      },
      "source": [
        "def analyze_data(img_list, img_labels, title):\n",
        "    print(50*'*')\n",
        "    print(\"Images (X) shape:\", img_list.shape)\n",
        "    print(\"Images (y) shape:\", img_labels.shape)\n",
        "    visualize_data(img_list, img_labels, title)\n",
        "    print(50*'*')\n",
        "\n",
        "#Matplotlib it\n",
        "def visualize_data(img_list, img_labels, title):\n",
        "    #a set of 9 figures\n",
        "    fig = plt.figure(figsize=(8,8))\n",
        "    for i in range(9):\n",
        "        plt.subplot(3,3,i+1)\n",
        "        plt.xticks([])\n",
        "        plt.yticks([])\n",
        "        plt.grid(False)\n",
        "        plt.imshow(tf.squeeze(img_list[i]))"
      ],
      "execution_count": 5,
      "outputs": []
    },
    {
      "cell_type": "code",
      "metadata": {
        "colab": {
          "base_uri": "https://localhost:8080/",
          "height": 537
        },
        "id": "wEsKXI1b1Vs-",
        "outputId": "cf749c70-6ff8-4785-c064-b4b53cd46369"
      },
      "source": [
        "#Analyzing 64x64 images data\n",
        "analyze_data(img_64, label_64, 'teste')"
      ],
      "execution_count": 6,
      "outputs": [
        {
          "output_type": "stream",
          "text": [
            "**************************************************\n",
            "Images (X) shape: (1320, 64, 64, 1)\n",
            "Images (y) shape: (1320,)\n",
            "**************************************************\n"
          ],
          "name": "stdout"
        },
        {
          "output_type": "display_data",
          "data": {
            "image/png": "[encoded data removed]",
            "text/plain": [
              "<Figure size 576x576 with 9 Axes>"
            ]
          },
          "metadata": {
            "tags": []
          }
        }
      ]
    }
  ]
}